{
 "cells": [
  {
   "cell_type": "markdown",
   "metadata": {},
   "source": [
    "# Registered Model Tutorial\n",
    "\n",
    "This `register-model.ipynb` Jupyter notebook shows an example of how you can use the Model Registry feature to create and store a model.\n",
    "\n",
    "In this tutorial, you will:\n",
    "* create an experiment using MLflow\n",
    "* create a registered model from that experiment\n",
    "* persist parameters, metrics, and artifacts that ensure reproducibility and enable visual comparison of models\n",
    "\n",
    "## See Also\n",
    "* For a more in-depth tutorial on experiments, check out [experiment.ipynb](experiment.ipynb)"
   ]
  },
  {
   "cell_type": "code",
   "execution_count": 17,
   "metadata": {},
   "outputs": [],
   "source": [
    "import random\n",
    "import string\n",
    "\n",
    "random_string = ''.join(random.choice(string.ascii_letters) for _ in range(3))"
   ]
  },
  {
   "cell_type": "code",
   "execution_count": 18,
   "metadata": {},
   "outputs": [],
   "source": [
    "# License for code in this notebook: BSD 3 clause\n",
    "# import everything we'll need for the rest of the notebook\n",
    "import mlflow.sklearn\n",
    "from mlflow.store.artifact.runs_artifact_repo import RunsArtifactRepository\n",
    "from mlflow import MlflowClient\n",
    "from sklearn.ensemble import RandomForestRegressor\n",
    "\n",
    "client = MlflowClient()"
   ]
  },
  {
   "cell_type": "code",
   "execution_count": 19,
   "metadata": {},
   "outputs": [],
   "source": [
    "# Register model name in the model registry\n",
    "\n",
    "name = \"RandomForestRegression_\" + random_string\n",
    "registered_model = client.create_registered_model(name)"
   ]
  },
  {
   "cell_type": "code",
   "execution_count": null,
   "metadata": {},
   "outputs": [],
   "source": [
    "# create an experiment run in MLflow\n",
    "\n",
    "params = {\"n_estimators\": 3, \"random_state\": 42}\n",
    "rfr = RandomForestRegressor(**params).fit([[0, 1]], [1])\n",
    "# Log MLflow entities\n",
    "with mlflow.start_run() as run:\n",
    "    mlflow.log_params(params)\n",
    "    model_info = mlflow.sklearn.log_model(rfr, artifact_path=\"sklearn-model\")\n",
    "    runs_uri = model_info.model_uri\n",
    "    \n",
    "    # Create a new model version of the RandomForestRegression model from this run\n",
    "    desc = \"A testing version of the model\"\n",
    "    model_src = RunsArtifactRepository.get_underlying_uri(runs_uri)\n",
    "    mv = client.create_model_version(name, model_src, run.info.run_id, description=desc)\n",
    "    print(\"Name: {}\".format(mv.name))\n",
    "    print(\"Version: {}\".format(mv.version))\n",
    "    print(\"Description: {}\".format(mv.description))\n",
    "    print(\"Status: {}\".format(mv.status))\n",
    "    print(\"Stage: {}\".format(mv.current_stage))\n"
   ]
  },
  {
   "cell_type": "code",
   "execution_count": null,
   "metadata": {},
   "outputs": [],
   "source": [
    "print(\"You created your first registered model!\")\n",
    "print(f\"Go to the Models UI and click on the {name} model to see the Model Card.\")\n"
   ]
  }
 ],
 "metadata": {
  "dca-init": true,
  "kernelspec": {
   "display_name": "Python 3 (ipykernel)",
   "language": "python",
   "name": "python3"
  },
  "language_info": {
   "codemirror_mode": {
    "name": "ipython",
    "version": 3
   },
   "file_extension": ".py",
   "mimetype": "text/x-python",
   "name": "python",
   "nbconvert_exporter": "python",
   "pygments_lexer": "ipython3",
   "version": "3.9.18"
  }
 },
 "nbformat": 4,
 "nbformat_minor": 4
}
